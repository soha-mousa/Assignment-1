{
 "cells": [
  {
   "cell_type": "markdown",
   "id": "234eaef5-3559-40ee-8aef-956b11b06cc4",
   "metadata": {},
   "source": [
    "# Data Science Tools and Ecosystem"
   ]
  },
  {
   "cell_type": "markdown",
   "id": "1c0f2821-6eba-4c2b-96b1-1be05537a028",
   "metadata": {},
   "source": [
    "In this notebook, Data Science Tools and Ecosystem are summarized."
   ]
  },
  {
   "cell_type": "markdown",
   "id": "8b3842e7-608f-4eaf-84f0-a1cbc3d23f41",
   "metadata": {},
   "source": [
    "**Objectives:**\n",
    "* List popular languages in Data Science\n",
    "* List commonly used libraries\n",
    "* List development enviroments\n",
    "* Perform arithmetic operation"
   ]
  },
  {
   "cell_type": "markdown",
   "id": "048d197d-2378-486c-ab10-facf0ae525a9",
   "metadata": {},
   "source": [
    "## Author: ## OSha\n"
   ]
  },
  {
   "cell_type": "markdown",
   "id": "0f453eb2-41a1-4287-a538-60c37215f795",
   "metadata": {},
   "source": [
    "Some of the popular languages that Data Scientists use are:"
   ]
  },
  {
   "cell_type": "markdown",
   "id": "716b956e-5f97-48e6-a322-9ff20e380263",
   "metadata": {},
   "source": [
    "1. Python\n",
    "2. R\n",
    "3. Julia"
   ]
  },
  {
   "cell_type": "markdown",
   "id": "843e3441-ec29-48d5-97ff-e7ab3b74ec81",
   "metadata": {},
   "source": [
    "Some of the commonly used libraries used by Data Scientists include:"
   ]
  },
  {
   "cell_type": "markdown",
   "id": "8f2a91c1-70d1-4cc9-8c95-a7f616eca9b3",
   "metadata": {},
   "source": [
    "1. Pandas\n",
    "2. Numpy\n",
    "3. Matplotlib\n",
    "4. Scikit-learn"
   ]
  },
  {
   "cell_type": "markdown",
   "id": "8b0c92ea-3842-4b65-8469-96141bfb2d43",
   "metadata": {},
   "source": [
    "|Data Science|\n",
    "|------------|\n",
    "|Jupyter Notebook  |\n",
    "|Google Colab  |\n",
    "|Anaconda  |"
   ]
  },
  {
   "cell_type": "markdown",
   "id": "f346898f-43ce-439f-bfd8-deb2c02fed85",
   "metadata": {},
   "source": [
    "### Below are a few examples of evaluating arithmetic expressions in Python"
   ]
  },
  {
   "cell_type": "code",
   "execution_count": 2,
   "id": "c915325f-4cef-4cad-a6b2-2faf69da4397",
   "metadata": {},
   "outputs": [
    {
     "data": {
      "text/plain": [
       "17"
      ]
     },
     "execution_count": 2,
     "metadata": {},
     "output_type": "execute_result"
    }
   ],
   "source": [
    "(3*4)+5\n",
    "#This a simple arithmetic expression to mutiply then add integers"
   ]
  },
  {
   "cell_type": "code",
   "execution_count": 8,
   "id": "3c464c1d-6e88-4d98-a2dc-46e4b1ce7de2",
   "metadata": {},
   "outputs": [
    {
     "name": "stdout",
     "output_type": "stream",
     "text": [
      "3.3333333333333335\n"
     ]
    }
   ],
   "source": [
    "hours = 200/60\n",
    "print(hours)\n",
    "#This will convert 200 minutes to hours by diving by 60"
   ]
  },
  {
   "cell_type": "code",
   "execution_count": null,
   "id": "ba0d425e-4afa-4cb5-9bd0-cdd0b0ca0046",
   "metadata": {},
   "outputs": [],
   "source": []
  }
 ],
 "metadata": {
  "kernelspec": {
   "display_name": "Python 3 (ipykernel)",
   "language": "python",
   "name": "python3"
  },
  "language_info": {
   "codemirror_mode": {
    "name": "ipython",
    "version": 3
   },
   "file_extension": ".py",
   "mimetype": "text/x-python",
   "name": "python",
   "nbconvert_exporter": "python",
   "pygments_lexer": "ipython3",
   "version": "3.11.7"
  }
 },
 "nbformat": 4,
 "nbformat_minor": 5
}
